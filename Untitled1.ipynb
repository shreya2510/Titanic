{
 "cells": [
  {
   "cell_type": "code",
   "execution_count": 1,
   "metadata": {},
   "outputs": [],
   "source": [
    "import csv\n",
    "import numpy as np\n",
    "import pandas as pd\n",
    "import seaborn as sns\n",
    "import matplotlib.pyplot as plt\n",
    "from numpy import genfromtxt\n",
    "from numpy import nan\n",
    "from pandas import DataFrame as df\n",
    "from sklearn.model_selection import train_test_split\n",
    "from sklearn import svm\n",
    "from sklearn.svm import SVC"
   ]
  },
  {
   "cell_type": "code",
   "execution_count": 2,
   "metadata": {},
   "outputs": [],
   "source": [
    "initial_data = pd.read_csv(r'C:\\Users\\kosar\\Desktop\\GithubML&DS\\titanic\\train.csv')"
   ]
  },
  {
   "cell_type": "code",
   "execution_count": 3,
   "metadata": {},
   "outputs": [
    {
     "data": {
      "text/html": [
       "<div>\n",
       "<style scoped>\n",
       "    .dataframe tbody tr th:only-of-type {\n",
       "        vertical-align: middle;\n",
       "    }\n",
       "\n",
       "    .dataframe tbody tr th {\n",
       "        vertical-align: top;\n",
       "    }\n",
       "\n",
       "    .dataframe thead th {\n",
       "        text-align: right;\n",
       "    }\n",
       "</style>\n",
       "<table border=\"1\" class=\"dataframe\">\n",
       "  <thead>\n",
       "    <tr style=\"text-align: right;\">\n",
       "      <th></th>\n",
       "      <th>PassengerId</th>\n",
       "      <th>Survived</th>\n",
       "      <th>Pclass</th>\n",
       "      <th>Name</th>\n",
       "      <th>Sex</th>\n",
       "      <th>Age</th>\n",
       "      <th>SibSp</th>\n",
       "      <th>Parch</th>\n",
       "      <th>Ticket</th>\n",
       "      <th>Fare</th>\n",
       "      <th>Cabin</th>\n",
       "      <th>Embarked</th>\n",
       "    </tr>\n",
       "  </thead>\n",
       "  <tbody>\n",
       "    <tr>\n",
       "      <th>0</th>\n",
       "      <td>1</td>\n",
       "      <td>0</td>\n",
       "      <td>3</td>\n",
       "      <td>Braund, Mr. Owen Harris</td>\n",
       "      <td>male</td>\n",
       "      <td>22.0</td>\n",
       "      <td>1</td>\n",
       "      <td>0</td>\n",
       "      <td>A/5 21171</td>\n",
       "      <td>7.2500</td>\n",
       "      <td>NaN</td>\n",
       "      <td>S</td>\n",
       "    </tr>\n",
       "    <tr>\n",
       "      <th>1</th>\n",
       "      <td>2</td>\n",
       "      <td>1</td>\n",
       "      <td>1</td>\n",
       "      <td>Cumings, Mrs. John Bradley (Florence Briggs Th...</td>\n",
       "      <td>female</td>\n",
       "      <td>38.0</td>\n",
       "      <td>1</td>\n",
       "      <td>0</td>\n",
       "      <td>PC 17599</td>\n",
       "      <td>71.2833</td>\n",
       "      <td>C85</td>\n",
       "      <td>C</td>\n",
       "    </tr>\n",
       "    <tr>\n",
       "      <th>2</th>\n",
       "      <td>3</td>\n",
       "      <td>1</td>\n",
       "      <td>3</td>\n",
       "      <td>Heikkinen, Miss. Laina</td>\n",
       "      <td>female</td>\n",
       "      <td>26.0</td>\n",
       "      <td>0</td>\n",
       "      <td>0</td>\n",
       "      <td>STON/O2. 3101282</td>\n",
       "      <td>7.9250</td>\n",
       "      <td>NaN</td>\n",
       "      <td>S</td>\n",
       "    </tr>\n",
       "    <tr>\n",
       "      <th>3</th>\n",
       "      <td>4</td>\n",
       "      <td>1</td>\n",
       "      <td>1</td>\n",
       "      <td>Futrelle, Mrs. Jacques Heath (Lily May Peel)</td>\n",
       "      <td>female</td>\n",
       "      <td>35.0</td>\n",
       "      <td>1</td>\n",
       "      <td>0</td>\n",
       "      <td>113803</td>\n",
       "      <td>53.1000</td>\n",
       "      <td>C123</td>\n",
       "      <td>S</td>\n",
       "    </tr>\n",
       "    <tr>\n",
       "      <th>4</th>\n",
       "      <td>5</td>\n",
       "      <td>0</td>\n",
       "      <td>3</td>\n",
       "      <td>Allen, Mr. William Henry</td>\n",
       "      <td>male</td>\n",
       "      <td>35.0</td>\n",
       "      <td>0</td>\n",
       "      <td>0</td>\n",
       "      <td>373450</td>\n",
       "      <td>8.0500</td>\n",
       "      <td>NaN</td>\n",
       "      <td>S</td>\n",
       "    </tr>\n",
       "  </tbody>\n",
       "</table>\n",
       "</div>"
      ],
      "text/plain": [
       "   PassengerId  Survived  Pclass  \\\n",
       "0            1         0       3   \n",
       "1            2         1       1   \n",
       "2            3         1       3   \n",
       "3            4         1       1   \n",
       "4            5         0       3   \n",
       "\n",
       "                                                Name     Sex   Age  SibSp  \\\n",
       "0                            Braund, Mr. Owen Harris    male  22.0      1   \n",
       "1  Cumings, Mrs. John Bradley (Florence Briggs Th...  female  38.0      1   \n",
       "2                             Heikkinen, Miss. Laina  female  26.0      0   \n",
       "3       Futrelle, Mrs. Jacques Heath (Lily May Peel)  female  35.0      1   \n",
       "4                           Allen, Mr. William Henry    male  35.0      0   \n",
       "\n",
       "   Parch            Ticket     Fare Cabin Embarked  \n",
       "0      0         A/5 21171   7.2500   NaN        S  \n",
       "1      0          PC 17599  71.2833   C85        C  \n",
       "2      0  STON/O2. 3101282   7.9250   NaN        S  \n",
       "3      0            113803  53.1000  C123        S  \n",
       "4      0            373450   8.0500   NaN        S  "
      ]
     },
     "execution_count": 3,
     "metadata": {},
     "output_type": "execute_result"
    }
   ],
   "source": [
    "initial_data.head()"
   ]
  },
  {
   "cell_type": "code",
   "execution_count": 4,
   "metadata": {},
   "outputs": [],
   "source": [
    "remove=[initial_data.columns[0],initial_data.columns[3],initial_data.columns[8],initial_data.columns[9],initial_data.columns[10]]\n",
    "initial_data.drop(remove,axis=1, inplace=True)\n"
   ]
  },
  {
   "cell_type": "code",
   "execution_count": 5,
   "metadata": {},
   "outputs": [
    {
     "data": {
      "text/html": [
       "<div>\n",
       "<style scoped>\n",
       "    .dataframe tbody tr th:only-of-type {\n",
       "        vertical-align: middle;\n",
       "    }\n",
       "\n",
       "    .dataframe tbody tr th {\n",
       "        vertical-align: top;\n",
       "    }\n",
       "\n",
       "    .dataframe thead th {\n",
       "        text-align: right;\n",
       "    }\n",
       "</style>\n",
       "<table border=\"1\" class=\"dataframe\">\n",
       "  <thead>\n",
       "    <tr style=\"text-align: right;\">\n",
       "      <th></th>\n",
       "      <th>Survived</th>\n",
       "      <th>Pclass</th>\n",
       "      <th>Sex</th>\n",
       "      <th>Age</th>\n",
       "      <th>SibSp</th>\n",
       "      <th>Parch</th>\n",
       "      <th>Embarked</th>\n",
       "    </tr>\n",
       "  </thead>\n",
       "  <tbody>\n",
       "    <tr>\n",
       "      <th>886</th>\n",
       "      <td>0</td>\n",
       "      <td>2</td>\n",
       "      <td>male</td>\n",
       "      <td>27.0</td>\n",
       "      <td>0</td>\n",
       "      <td>0</td>\n",
       "      <td>S</td>\n",
       "    </tr>\n",
       "    <tr>\n",
       "      <th>887</th>\n",
       "      <td>1</td>\n",
       "      <td>1</td>\n",
       "      <td>female</td>\n",
       "      <td>19.0</td>\n",
       "      <td>0</td>\n",
       "      <td>0</td>\n",
       "      <td>S</td>\n",
       "    </tr>\n",
       "    <tr>\n",
       "      <th>888</th>\n",
       "      <td>0</td>\n",
       "      <td>3</td>\n",
       "      <td>female</td>\n",
       "      <td>NaN</td>\n",
       "      <td>1</td>\n",
       "      <td>2</td>\n",
       "      <td>S</td>\n",
       "    </tr>\n",
       "    <tr>\n",
       "      <th>889</th>\n",
       "      <td>1</td>\n",
       "      <td>1</td>\n",
       "      <td>male</td>\n",
       "      <td>26.0</td>\n",
       "      <td>0</td>\n",
       "      <td>0</td>\n",
       "      <td>C</td>\n",
       "    </tr>\n",
       "    <tr>\n",
       "      <th>890</th>\n",
       "      <td>0</td>\n",
       "      <td>3</td>\n",
       "      <td>male</td>\n",
       "      <td>32.0</td>\n",
       "      <td>0</td>\n",
       "      <td>0</td>\n",
       "      <td>Q</td>\n",
       "    </tr>\n",
       "  </tbody>\n",
       "</table>\n",
       "</div>"
      ],
      "text/plain": [
       "     Survived  Pclass     Sex   Age  SibSp  Parch Embarked\n",
       "886         0       2    male  27.0      0      0        S\n",
       "887         1       1  female  19.0      0      0        S\n",
       "888         0       3  female   NaN      1      2        S\n",
       "889         1       1    male  26.0      0      0        C\n",
       "890         0       3    male  32.0      0      0        Q"
      ]
     },
     "execution_count": 5,
     "metadata": {},
     "output_type": "execute_result"
    }
   ],
   "source": [
    "initial_data.tail()"
   ]
  },
  {
   "cell_type": "code",
   "execution_count": 6,
   "metadata": {},
   "outputs": [],
   "source": [
    "X = initial_data[[\"Pclass\",\"Age\",\"SibSp\",\"Parch\"]]\n",
    "\n",
    "y = initial_data[\"Survived\"]"
   ]
  },
  {
   "cell_type": "code",
   "execution_count": 7,
   "metadata": {},
   "outputs": [],
   "source": [
    "labels=[\"Survived\",\"Pclass\",\"Sex\",\"Age\",\"SibSp\",\"Parch\",\"Embarked\"]\n",
    "initial_data.columns = labels"
   ]
  },
  {
   "cell_type": "code",
   "execution_count": 8,
   "metadata": {},
   "outputs": [
    {
     "data": {
      "text/html": [
       "<div>\n",
       "<style scoped>\n",
       "    .dataframe tbody tr th:only-of-type {\n",
       "        vertical-align: middle;\n",
       "    }\n",
       "\n",
       "    .dataframe tbody tr th {\n",
       "        vertical-align: top;\n",
       "    }\n",
       "\n",
       "    .dataframe thead th {\n",
       "        text-align: right;\n",
       "    }\n",
       "</style>\n",
       "<table border=\"1\" class=\"dataframe\">\n",
       "  <thead>\n",
       "    <tr style=\"text-align: right;\">\n",
       "      <th></th>\n",
       "      <th>Survived</th>\n",
       "      <th>Pclass</th>\n",
       "      <th>Sex</th>\n",
       "      <th>Age</th>\n",
       "      <th>SibSp</th>\n",
       "      <th>Parch</th>\n",
       "      <th>Embarked</th>\n",
       "    </tr>\n",
       "  </thead>\n",
       "  <tbody>\n",
       "    <tr>\n",
       "      <th>886</th>\n",
       "      <td>True</td>\n",
       "      <td>True</td>\n",
       "      <td>True</td>\n",
       "      <td>True</td>\n",
       "      <td>True</td>\n",
       "      <td>True</td>\n",
       "      <td>True</td>\n",
       "    </tr>\n",
       "    <tr>\n",
       "      <th>887</th>\n",
       "      <td>True</td>\n",
       "      <td>True</td>\n",
       "      <td>True</td>\n",
       "      <td>True</td>\n",
       "      <td>True</td>\n",
       "      <td>True</td>\n",
       "      <td>True</td>\n",
       "    </tr>\n",
       "    <tr>\n",
       "      <th>888</th>\n",
       "      <td>True</td>\n",
       "      <td>True</td>\n",
       "      <td>True</td>\n",
       "      <td>False</td>\n",
       "      <td>True</td>\n",
       "      <td>True</td>\n",
       "      <td>True</td>\n",
       "    </tr>\n",
       "    <tr>\n",
       "      <th>889</th>\n",
       "      <td>True</td>\n",
       "      <td>True</td>\n",
       "      <td>True</td>\n",
       "      <td>True</td>\n",
       "      <td>True</td>\n",
       "      <td>True</td>\n",
       "      <td>True</td>\n",
       "    </tr>\n",
       "    <tr>\n",
       "      <th>890</th>\n",
       "      <td>True</td>\n",
       "      <td>True</td>\n",
       "      <td>True</td>\n",
       "      <td>True</td>\n",
       "      <td>True</td>\n",
       "      <td>True</td>\n",
       "      <td>True</td>\n",
       "    </tr>\n",
       "  </tbody>\n",
       "</table>\n",
       "</div>"
      ],
      "text/plain": [
       "     Survived  Pclass   Sex    Age  SibSp  Parch  Embarked\n",
       "886      True    True  True   True   True   True      True\n",
       "887      True    True  True   True   True   True      True\n",
       "888      True    True  True  False   True   True      True\n",
       "889      True    True  True   True   True   True      True\n",
       "890      True    True  True   True   True   True      True"
      ]
     },
     "execution_count": 8,
     "metadata": {},
     "output_type": "execute_result"
    }
   ],
   "source": [
    "initial_data.notnull().tail()"
   ]
  },
  {
   "cell_type": "code",
   "execution_count": 9,
   "metadata": {},
   "outputs": [
    {
     "data": {
      "text/plain": [
       "Survived      0\n",
       "Pclass        0\n",
       "Sex           0\n",
       "Age         177\n",
       "SibSp         0\n",
       "Parch         0\n",
       "Embarked      2\n",
       "dtype: int64"
      ]
     },
     "execution_count": 9,
     "metadata": {},
     "output_type": "execute_result"
    }
   ],
   "source": [
    "initial_data.isnull().sum(axis=0)"
   ]
  },
  {
   "cell_type": "code",
   "execution_count": 10,
   "metadata": {},
   "outputs": [
    {
     "data": {
      "text/plain": [
       "<matplotlib.axes._subplots.AxesSubplot at 0x2142ccfd780>"
      ]
     },
     "execution_count": 10,
     "metadata": {},
     "output_type": "execute_result"
    },
    {
     "data": {
      "image/png": "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\n",
      "text/plain": [
       "<Figure size 432x288 with 1 Axes>"
      ]
     },
     "metadata": {
      "needs_background": "light"
     },
     "output_type": "display_data"
    }
   ],
   "source": [
    "sns.heatmap(initial_data.isnull(),yticklabels=False,cbar=False,cmap='viridis')"
   ]
  },
  {
   "cell_type": "code",
   "execution_count": 11,
   "metadata": {},
   "outputs": [
    {
     "data": {
      "text/plain": [
       "<matplotlib.axes._subplots.AxesSubplot at 0x2142cff4cc0>"
      ]
     },
     "execution_count": 11,
     "metadata": {},
     "output_type": "execute_result"
    },
    {
     "data": {
      "image/png": "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\n",
      "text/plain": [
       "<Figure size 432x288 with 1 Axes>"
      ]
     },
     "metadata": {
      "needs_background": "light"
     },
     "output_type": "display_data"
    }
   ],
   "source": [
    "fig, ax = plt.subplots()\n",
    "ax.yaxis.grid(True)\n",
    "ax.xaxis.grid(True) \n",
    "#sns.boxplot(x='Pclass',y='Age', data=initial_data,palette='winter', ax=ax)\n",
    "sns.boxplot(x='Sex',y='Age', data=initial_data,palette='winter', ax=ax)"
   ]
  },
  {
   "cell_type": "code",
   "execution_count": 12,
   "metadata": {},
   "outputs": [
    {
     "data": {
      "text/plain": [
       "<matplotlib.axes._subplots.AxesSubplot at 0x2142d09a588>"
      ]
     },
     "execution_count": 12,
     "metadata": {},
     "output_type": "execute_result"
    },
    {
     "data": {
      "image/png": "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\n",
      "text/plain": [
       "<Figure size 432x288 with 1 Axes>"
      ]
     },
     "metadata": {
      "needs_background": "light"
     },
     "output_type": "display_data"
    }
   ],
   "source": [
    "fig, ax = plt.subplots()\n",
    "ax.yaxis.grid(True)\n",
    "ax.xaxis.grid(True) \n",
    "sns.boxplot(x='Pclass',y='Age', data=initial_data,palette='winter', ax=ax)"
   ]
  },
  {
   "cell_type": "code",
   "execution_count": 13,
   "metadata": {},
   "outputs": [],
   "source": [
    "def Missing_Age(X):\n",
    "    train_X = pd.DataFrame(X)\n",
    "    train_X['Age'] = train_X['Age'].fillna(0)\n",
    "    train_X.loc[(train_X[\"Age\"] == 0.0) & (train_X[\"Pclass\"] == 3), \"Age\"] = 25\n",
    "    train_X.loc[(train_X[\"Age\"] == 0.0) & (train_X[\"Pclass\"] == 2), \"Age\"] = 30\n",
    "    train_X.loc[(train_X[\"Age\"] == 0.0) & (train_X[\"Pclass\"] == 1), \"Age\"] = 39\n",
    "    return"
   ]
  },
  {
   "cell_type": "code",
   "execution_count": 14,
   "metadata": {},
   "outputs": [
    {
     "name": "stdout",
     "output_type": "stream",
     "text": [
      "     Pclass   Age  SibSp  Parch\n",
      "0         3  22.0      1      0\n",
      "1         1  38.0      1      0\n",
      "2         3  26.0      0      0\n",
      "3         1  35.0      1      0\n",
      "4         3  35.0      0      0\n",
      "5         3  25.0      0      0\n",
      "6         1  54.0      0      0\n",
      "7         3   2.0      3      1\n",
      "8         3  27.0      0      2\n",
      "9         2  14.0      1      0\n",
      "10        3   4.0      1      1\n",
      "11        1  58.0      0      0\n",
      "12        3  20.0      0      0\n",
      "13        3  39.0      1      5\n",
      "14        3  14.0      0      0\n",
      "15        2  55.0      0      0\n",
      "16        3   2.0      4      1\n",
      "17        2  30.0      0      0\n",
      "18        3  31.0      1      0\n",
      "19        3  25.0      0      0\n",
      "20        2  35.0      0      0\n",
      "21        2  34.0      0      0\n",
      "22        3  15.0      0      0\n",
      "23        1  28.0      0      0\n",
      "24        3   8.0      3      1\n",
      "25        3  38.0      1      5\n",
      "26        3  25.0      0      0\n",
      "27        1  19.0      3      2\n",
      "28        3  25.0      0      0\n",
      "29        3  25.0      0      0\n",
      "..      ...   ...    ...    ...\n",
      "861       2  21.0      1      0\n",
      "862       1  48.0      0      0\n",
      "863       3  25.0      8      2\n",
      "864       2  24.0      0      0\n",
      "865       2  42.0      0      0\n",
      "866       2  27.0      1      0\n",
      "867       1  31.0      0      0\n",
      "868       3  25.0      0      0\n",
      "869       3   4.0      1      1\n",
      "870       3  26.0      0      0\n",
      "871       1  47.0      1      1\n",
      "872       1  33.0      0      0\n",
      "873       3  47.0      0      0\n",
      "874       2  28.0      1      0\n",
      "875       3  15.0      0      0\n",
      "876       3  20.0      0      0\n",
      "877       3  19.0      0      0\n",
      "878       3  25.0      0      0\n",
      "879       1  56.0      0      1\n",
      "880       2  25.0      0      1\n",
      "881       3  33.0      0      0\n",
      "882       3  22.0      0      0\n",
      "883       2  28.0      0      0\n",
      "884       3  25.0      0      0\n",
      "885       3  39.0      0      5\n",
      "886       2  27.0      0      0\n",
      "887       1  19.0      0      0\n",
      "888       3  25.0      1      2\n",
      "889       1  26.0      0      0\n",
      "890       3  32.0      0      0\n",
      "\n",
      "[891 rows x 4 columns]\n"
     ]
    }
   ],
   "source": [
    "train_X=Missing_Age(X)\n",
    "print(X)"
   ]
  },
  {
   "cell_type": "code",
   "execution_count": 15,
   "metadata": {},
   "outputs": [
    {
     "data": {
      "text/plain": [
       "<matplotlib.axes._subplots.AxesSubplot at 0x2142d104748>"
      ]
     },
     "execution_count": 15,
     "metadata": {},
     "output_type": "execute_result"
    },
    {
     "data": {
      "image/png": "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\n",
      "text/plain": [
       "<Figure size 432x288 with 1 Axes>"
      ]
     },
     "metadata": {
      "needs_background": "light"
     },
     "output_type": "display_data"
    }
   ],
   "source": [
    "X.astype(bool).sum(axis=0)\n",
    "sns.heatmap(X.isnull(),yticklabels=False,cbar=False,cmap='viridis')\n"
   ]
  },
  {
   "cell_type": "code",
   "execution_count": 16,
   "metadata": {},
   "outputs": [
    {
     "name": "stdout",
     "output_type": "stream",
     "text": [
      "[[ 3. 22.  1.  0.]\n",
      " [ 1. 38.  1.  0.]\n",
      " [ 3. 26.  0.  0.]\n",
      " ...\n",
      " [ 3. 25.  1.  2.]\n",
      " [ 1. 26.  0.  0.]\n",
      " [ 3. 32.  0.  0.]]\n",
      "[0 1 1 1 0 0 0 0 1 1 1 1 0 0 0 1 0 1 0 1 0 1 1 1 0 1 0 0 1 0 0 1 1 0 0 0 1\n",
      " 0 0 1 0 0 0 1 1 0 0 1 0 0 0 0 1 1 0 1 1 0 1 0 0 1 0 0 0 1 1 0 1 0 0 0 0 0\n",
      " 1 0 0 0 1 1 0 1 1 0 1 1 0 0 1 0 0 0 0 0 0 0 0 1 1 0 0 0 0 0 0 0 1 1 0 1 0\n",
      " 0 0 0 0 0 0 0 0 0 0 0 0 1 0 1 0 1 1 0 0 0 0 1 0 0 1 0 0 0 0 1 1 0 0 0 1 0\n",
      " 0 0 0 1 0 0 0 0 1 0 0 0 0 1 0 0 0 1 1 0 0 0 0 0 1 0 0 0 0 0 0 0 0 0 0 1 1\n",
      " 0 1 1 0 0 1 0 1 1 1 1 0 0 1 0 0 0 0 0 1 0 0 1 1 1 0 1 0 0 0 1 1 0 1 0 1 0\n",
      " 0 0 1 0 1 0 0 0 1 0 0 1 0 0 0 1 0 0 0 1 0 0 0 0 0 1 1 0 0 0 0 0 0 1 1 1 1\n",
      " 1 0 1 0 0 0 0 0 1 1 1 0 1 1 0 1 1 0 0 0 1 0 0 0 1 0 0 1 0 1 1 1 1 0 0 0 0\n",
      " 0 0 1 1 1 1 0 1 0 1 1 1 0 1 1 1 0 0 0 1 1 0 1 1 0 0 1 1 0 1 0 1 1 1 1 0 0\n",
      " 0 1 0 0 1 1 0 1 1 0 0 0 1 1 1 1 0 0 0 0 0 0 0 1 0 1 1 0 0 0 0 0 0 1 1 1 1\n",
      " 1 0 0 0 0 1 1 0 0 0 1 1 0 1 0 0 0 1 0 1 1 1 0 1 1 0 0 0 0 1 1 0 0 0 0 0 0\n",
      " 1 0 0 0 0 1 0 1 0 1 1 0 0 0 0 0 0 0 0 1 1 0 1 1 1 1 0 0 1 0 1 0 0 1 0 0 1\n",
      " 1 1 1 1 1 1 0 0 0 1 0 1 0 1 1 0 1 0 0 0 0 0 0 0 0 1 0 0 1 1 0 0 0 0 0 1 0\n",
      " 0 0 1 1 0 1 0 0 1 0 0 0 0 0 0 1 0 0 0 0 0 0 0 1 0 1 1 0 1 1 0 1 1 0 0 1 0\n",
      " 1 0 1 0 0 1 0 0 1 0 0 0 1 0 0 1 0 1 0 1 0 1 1 0 0 1 0 0 1 1 0 1 1 0 0 1 1\n",
      " 0 1 0 1 1 0 0 0 0 0 0 0 0 0 1 1 1 1 1 0 0 1 1 0 1 1 1 0 0 0 1 0 1 0 0 0 1\n",
      " 0 0 0 0 1 0 0 1 1 0 0 0 1 0 0 1 1 1 0 0 1 0 0 1 0 0 1 0 0 1 1 0 0 0 0 1 0\n",
      " 0 1 0 1 0 0 1 0 0 0 0 0 1 0 1 1 1 0 1 0 1 0 1 0 1 0 0 0 0 0 0 1 0 0 0 1 0\n",
      " 0 0 0 1 1 0 0 1 0 0 0 1 0 1 0 1 0 0 0 0 0 0 0 1 1 1 1 0 0 0 0 1 0 0 1 1 0\n",
      " 0 0 0 1 1 1 1 1 0 1 0 0 0 1 1 0 0 1 0 0 0 1 0 1 1 0 0 1 0 0 0 0 0 0 1 0 0\n",
      " 1 0 1 0 1 0 0 1 0 0 1 1 0 0 1 1 0 0 0 1 0 0 1 1 0 1 0 0 0 0 0 0 0 0 1 0 0\n",
      " 1 0 1 1 1 0 0 0 0 1 0 1 0 0 0 0 0 0 0 1 1 0 0 0 1 1 1 1 0 0 0 0 1 0 0 0 0\n",
      " 0 0 0 0 0 0 1 1 0 1 0 0 0 1 1 1 1 1 0 0 0 1 0 0 1 1 0 0 1 0 0 0 0 0 0 1 0\n",
      " 0 0 1 0 1 1 1 1 0 0 0 1 0 0 1 1 0 0 1 0 1 0 0 1 1 0 0 0 1 1 0 0 0 0 0 0 1\n",
      " 0 1 0]\n"
     ]
    }
   ],
   "source": [
    "X=np.array(X) \n",
    "y=np.array(y) \n",
    "print(X)\n",
    "print(y)"
   ]
  },
  {
   "cell_type": "code",
   "execution_count": 17,
   "metadata": {},
   "outputs": [],
   "source": [
    "X_train, X_test, y_train, y_test = train_test_split(X,y,test_size=0.34)"
   ]
  },
  {
   "cell_type": "code",
   "execution_count": 19,
   "metadata": {
    "scrolled": true
   },
   "outputs": [],
   "source": [
    "clf = svm.SVC(kernel='linear')\n",
    "clf.fit(X_train, y_train)\n",
    "y_pred = clf.predict(X_test)"
   ]
  },
  {
   "cell_type": "code",
   "execution_count": 20,
   "metadata": {
    "scrolled": true
   },
   "outputs": [
    {
     "name": "stdout",
     "output_type": "stream",
     "text": [
      "Accuracy: 0.7194719471947195\n"
     ]
    }
   ],
   "source": [
    "from sklearn import metrics\n",
    "print(\"Accuracy:\",metrics.accuracy_score(y_test, y_pred))"
   ]
  },
  {
   "cell_type": "code",
   "execution_count": 21,
   "metadata": {},
   "outputs": [
    {
     "name": "stdout",
     "output_type": "stream",
     "text": [
      "Precision: 0.6288659793814433\n",
      "Recall: 0.5545454545454546\n"
     ]
    }
   ],
   "source": [
    "print(\"Precision:\",metrics.precision_score(y_test, y_pred))\n",
    "print(\"Recall:\",metrics.recall_score(y_test, y_pred))\n"
    "print(metrics.classification_report(y_test, y_pred))"
   ]
  }
 ],
 "metadata": {
  "kernelspec": {
   "display_name": "Python 3",
   "language": "python",
   "name": "python3"
  },
  "language_info": {
   "codemirror_mode": {
    "name": "ipython",
    "version": 3
   },
   "file_extension": ".py",
   "mimetype": "text/x-python",
   "name": "python",
   "nbconvert_exporter": "python",
   "pygments_lexer": "ipython3",
   "version": "3.7.0"
  }
 },
 "nbformat": 4,
 "nbformat_minor": 2
}
