{
 "cells": [
  {
   "cell_type": "code",
   "execution_count": 1,
   "metadata": {},
   "outputs": [],
   "source": [
    "import numpy as np\n",
    "import pandas as pd\n",
    "import matplotlib as plt\n",
    "from numpy import genfromtxt\n",
    "from matplotlib import pyplot as plt\n",
    "import operator\n",
    "from pandas import DataFrame as df\n",
    "data = genfromtxt('train.csv', delimiter=',', skip_header = 1)\n",
    "csv_line=[]"
   ]
  },
  {
   "cell_type": "code",
   "execution_count": 2,
   "metadata": {},
   "outputs": [
    {
     "data": {
      "text/plain": [
       "array([[  1.    ,   0.    ,   3.    , ...,   7.25  ,      nan,      nan],\n",
       "       [  2.    ,   1.    ,   1.    , ...,  71.2833,      nan,      nan],\n",
       "       [  3.    ,   1.    ,   3.    , ...,   7.925 ,      nan,      nan],\n",
       "       ...,\n",
       "       [889.    ,   0.    ,   3.    , ...,  23.45  ,      nan,      nan],\n",
       "       [890.    ,   1.    ,   1.    , ...,  30.    ,      nan,      nan],\n",
       "       [891.    ,   0.    ,   3.    , ...,   7.75  ,      nan,      nan]])"
      ]
     },
     "execution_count": 2,
     "metadata": {},
     "output_type": "execute_result"
    }
   ],
   "source": [
    "data"
   ]
  },
  {
   "cell_type": "code",
   "execution_count": 3,
   "metadata": {},
   "outputs": [],
   "source": [
    "survived=[]\n",
    "Notsurvived=[]\n",
    "num = data[:,1].astype(\"int\")\n",
    "Box=['survived','Notsurvived']\n",
    "for i in num:\n",
    "    if i == 1:\n",
    "        survived.append(1)\n",
    "    else:\n",
    "        Notsurvived.append(1)\n",
    "t = len(survived)\n",
    "nt = len(Notsurvived) \n",
    "\n",
    " \n"
   ]
  },
  {
   "cell_type": "code",
   "execution_count": 12,
   "metadata": {},
   "outputs": [
    {
     "name": "stdout",
     "output_type": "stream",
     "text": [
      "[0 1 1 1 0 0 0 0 1 1 1 1 0 0 0 1 0 1 0 1 0 1 1 1 0 1 0 0 1 0 0 1 1 0 0 0 1\n",
      " 0 0 1 0 0 0 1 1 0 0 1 0 0 0 0 1 1 0 1 1 0 1 0 0 1 0 0 0 1 1 0 1 0 0 0 0 0\n",
      " 1 0 0 0 1 1 0 1 1 0 1 1 0 0 1 0 0 0 0 0 0 0 0 1 1 0 0 0 0 0 0 0 1 1 0 1 0\n",
      " 0 0 0 0 0 0 0 0 0 0 0 0 1 0 1 0 1 1 0 0 0 0 1 0 0 1 0 0 0 0 1 1 0 0 0 1 0\n",
      " 0 0 0 1 0 0 0 0 1 0 0 0 0 1 0 0 0 1 1 0 0 0 0 0 1 0 0 0 0 0 0 0 0 0 0 1 1\n",
      " 0 1 1 0 0 1 0 1 1 1 1 0 0 1 0 0 0 0 0 1 0 0 1 1 1 0 1 0 0 0 1 1 0 1 0 1 0\n",
      " 0 0 1 0 1 0 0 0 1 0 0 1 0 0 0 1 0 0 0 1 0 0 0 0 0 1 1 0 0 0 0 0 0 1 1 1 1\n",
      " 1 0 1 0 0 0 0 0 1 1 1 0 1 1 0 1 1 0 0 0 1 0 0 0 1 0 0 1 0 1 1 1 1 0 0 0 0\n",
      " 0 0 1 1 1 1 0 1 0 1 1 1 0 1 1 1 0 0 0 1 1 0 1 1 0 0 1 1 0 1 0 1 1 1 1 0 0\n",
      " 0 1 0 0 1 1 0 1 1 0 0 0 1 1 1 1 0 0 0 0 0 0 0 1 0 1 1 0 0 0 0 0 0 1 1 1 1\n",
      " 1 0 0 0 0 1 1 0 0 0 1 1 0 1 0 0 0 1 0 1 1 1 0 1 1 0 0 0 0 1 1 0 0 0 0 0 0\n",
      " 1 0 0 0 0 1 0 1 0 1 1 0 0 0 0 0 0 0 0 1 1 0 1 1 1 1 0 0 1 0 1 0 0 1 0 0 1\n",
      " 1 1 1 1 1 1 0 0 0 1 0 1 0 1 1 0 1 0 0 0 0 0 0 0 0 1 0 0 1 1 0 0 0 0 0 1 0\n",
      " 0 0 1 1 0 1 0 0 1 0 0 0 0 0 0 1 0 0 0 0 0 0 0 1 0 1 1 0 1 1 0 1 1 0 0 1 0\n",
      " 1 0 1 0 0 1 0 0 1 0 0 0 1 0 0 1 0 1 0 1 0 1 1 0 0 1 0 0 1 1 0 1 1 0 0 1 1\n",
      " 0 1 0 1 1 0 0 0 0 0 0 0 0 0 1 1 1 1 1 0 0 1 1 0 1 1 1 0 0 0 1 0 1 0 0 0 1\n",
      " 0 0 0 0 1 0 0 1 1 0 0 0 1 0 0 1 1 1 0 0 1 0 0 1 0 0 1 0 0 1 1 0 0 0 0 1 0\n",
      " 0 1 0 1 0 0 1 0 0 0 0 0 1 0 1 1 1 0 1 0 1 0 1 0 1 0 0 0 0 0 0 1 0 0 0 1 0\n",
      " 0 0 0 1 1 0 0 1 0 0 0 1 0 1 0 1 0 0 0 0 0 0 0 1 1 1 1 0 0 0 0 1 0 0 1 1 0\n",
      " 0 0 0 1 1 1 1 1 0 1 0 0 0 1 1 0 0 1 0 0 0 1 0 1 1 0 0 1 0 0 0 0 0 0 1 0 0\n",
      " 1 0 1 0 1 0 0 1 0 0 1 1 0 0 1 1 0 0 0 1 0 0 1 1 0 1 0 0 0 0 0 0 0 0 1 0 0\n",
      " 1 0 1 1 1 0 0 0 0 1 0 1 0 0 0 0 0 0 0 1 1 0 0 0 1 1 1 1 0 0 0 0 1 0 0 0 0\n",
      " 0 0 0 0 0 0 1 1 0 1 0 0 0 1 1 1 1 1 0 0 0 1 0 0 1 1 0 0 1 0 0 0 0 0 0 1 0\n",
      " 0 0 1 0 1 1 1 1 0 0 0 1 0 0 1 1 0 0 1 0 1 0 0 1 1 0 0 0 1 1 0 0 0 0 0 0 1\n",
      " 0 1 0]\n"
     ]
    }
   ],
   "source": [
    "print(num)"
   ]
  },
  {
   "cell_type": "code",
   "execution_count": 4,
   "metadata": {},
   "outputs": [
    {
     "name": "stdout",
     "output_type": "stream",
     "text": [
      "549\n"
     ]
    }
   ],
   "source": [
    "print(nt)"
   ]
  },
  {
   "cell_type": "code",
   "execution_count": 8,
   "metadata": {},
   "outputs": [
    {
     "name": "stdout",
     "output_type": "stream",
     "text": [
      "891\n"
     ]
    }
   ],
   "source": [
    "class1=[]\n",
    "class2=[]\n",
    "class3=[]\n",
    "pclass= data[:,2].astype(\"str\")#df.rename('1':'c1','2':'c2','3':'c3')\n",
    "for j, i in enumerate(pclass):\n",
    "    if i == \"1.0\":\n",
    "        pclass[j] = \"c1\"\n",
    "    elif i==\"2.0\":\n",
    "        pclass[j] = \"c2\"\n",
    "    else:\n",
    "        pclass[j] = \"c3\"\n",
    "\n",
    "print(len(pclass))   \n",
    "\n",
    "c1Sur=[]\n",
    "c1Nsur=[]\n",
    "c2Sur=[]\n",
    "c2Nsur=[]\n",
    "c3Sur=[]\n",
    "c3Nsur=[]\n",
    "\n",
    "      \n"
   ]
  },
  {
   "cell_type": "code",
   "execution_count": 19,
   "metadata": {},
   "outputs": [],
   "source": [
    "def survive_count(c1,c1Sur,c1Nsur):\n",
    "    j=1,2\n",
    "    c1Sur=[]\n",
    "    c1Nsur=[]\n",
    "    for i in range(len(pclass)):\n",
    "        if(pclass[i] == c1 and num[i] == 1):\n",
    "            c1Sur.append(1)\n",
    "        elif(pclass[i] == c1 and num[i] == 0):\n",
    "            c1Nsur.append(1)\n",
    "    return len(c1Sur),len(c1Nsur)\n",
    "    \n"
   ]
  },
  {
   "cell_type": "code",
   "execution_count": 20,
   "metadata": {},
   "outputs": [],
   "source": [
    "infoc1=survive_count(\"c1\",c1Sur,c1Nsur)\n",
    "infoc2=survive_count(\"c2\",c2Sur,c2Nsur)\n",
    "infoc3=survive_count(\"c3\",c3Sur,c3Nsur)"
   ]
  },
  {
   "cell_type": "code",
   "execution_count": 21,
   "metadata": {},
   "outputs": [
    {
     "name": "stdout",
     "output_type": "stream",
     "text": [
      "(136, 80)\n",
      "(87, 97)\n",
      "(119, 372)\n",
      "[136, 87, 119]\n",
      "[80, 97, 372]\n"
     ]
    }
   ],
   "source": [
    "print(infoc1)\n",
    "print(infoc2)\n",
    "print(infoc3)\n",
    "surinfo = [infoc1[0],infoc2[0],infoc3[0]]\n",
    "Nsurinfo = [infoc1[1],infoc2[1],infoc3[1]]\n",
    "print(surinfo)\n",
    "print(Nsurinfo)"
   ]
  },
  {
   "cell_type": "code",
   "execution_count": 22,
   "metadata": {
    "scrolled": true
   },
   "outputs": [
    {
     "data": {
      "image/png": "[encoded data removed]",
      "text/plain": [
       "<Figure size 432x288 with 1 Axes>"
      ]
     },
     "metadata": {
      "needs_background": "light"
     },
     "output_type": "display_data"
    }
   ],
   "source": [
    "\n",
    "\n",
    "ind = np.arange(2) \n",
    "width = 0.20\n",
    "plt.bar(ind, infoc1, width, color='lightgrey', edgecolor='black', hatch=\"/\")\n",
    "plt.bar(ind + width, infoc2, width,color='lightgrey', edgecolor='black', hatch=\".\")\n",
    "plt.bar(ind + width + width,infoc3, width,color='lightgrey', edgecolor='black', hatch=\"\\\\\")\n",
    "box=['infoc1','infoc2','infoc3']\n",
    "plt.ylabel('len(pclass)',fontsize=5)\n",
    "plt.xlabel('Color')\n",
    "plt.title('Bar Plot')\n",
    "\n",
    "plt.xticks(ind+width,['survive','Not survive'])\n",
    "plt.legend(box)\n",
    "plt.show()"
   ]
  },
  {
   "cell_type": "code",
   "execution_count": 23,
   "metadata": {},
   "outputs": [
    {
     "data": {
      "image/png": "[encoded data removed]",
      "text/plain": [
       "<Figure size 432x288 with 1 Axes>"
      ]
     },
     "metadata": {
      "needs_background": "light"
     },
     "output_type": "display_data"
    }
   ],
   "source": [
    "\n",
    "ind = np.arange(3) \n",
    "width = 0.20\n",
    "plt.bar(ind, surinfo, width, color='lightgrey', edgecolor='black', hatch=\"/\")\n",
    "plt.bar(ind + width, Nsurinfo, width,color='lightgrey', edgecolor='black', hatch=\".\")\n",
    "box=['survived','Notsurvived']\n",
    "plt.ylabel('len(pclass)',fontsize=5)\n",
    "plt.xlabel('Color')\n",
    "plt.title('Bar Plot')\n",
    "\n",
    "plt.xticks(ind+width,['infoc1','infoc2','infoc3'])\n",
    "plt.legend(box)\n",
    "plt.show()"
   ]
  },
  {
   "cell_type": "code",
   "execution_count": null,
   "metadata": {},
   "outputs": [],
   "source": [
    "\n"
   ]
  },
  {
   "cell_type": "code",
   "execution_count": null,
   "metadata": {},
   "outputs": [],
   "source": []
  },
  {
   "cell_type": "code",
   "execution_count": null,
   "metadata": {},
   "outputs": [],
   "source": []
  }
 ],
 "metadata": {
  "kernelspec": {
   "display_name": "Python 3",
   "language": "python",
   "name": "python3"
  },
  "language_info": {
   "codemirror_mode": {
    "name": "ipython",
    "version": 3
   },
   "file_extension": ".py",
   "mimetype": "text/x-python",
   "name": "python",
   "nbconvert_exporter": "python",
   "pygments_lexer": "ipython3",
   "version": "3.7.0"
  }
 },
 "nbformat": 4,
 "nbformat_minor": 2
}
